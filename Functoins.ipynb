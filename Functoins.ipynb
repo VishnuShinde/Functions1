{
  "nbformat": 4,
  "nbformat_minor": 0,
  "metadata": {
    "colab": {
      "provenance": []
    },
    "kernelspec": {
      "name": "python3",
      "display_name": "Python 3"
    },
    "language_info": {
      "name": "python"
    }
  },
  "cells": [
    {
      "cell_type": "code",
      "execution_count": null,
      "metadata": {
        "id": "YEGGL302-mm9"
      },
      "outputs": [],
      "source": []
    },
    {
      "cell_type": "markdown",
      "source": [
        "1. What is the difference between a function and a method in Python?\n",
        " =In Python, functions and methods are similar—they both perform actions—but there's a key difference:\n",
        "\n",
        "A function is independent and not tied to any object.\n",
        "\n",
        "A method is a function that belongs to an object (usually defined inside a class).\n",
        "\n",
        "Ex:def greet(name):\n",
        "    return f\"Hello, {name}!\"\n",
        "\n",
        "print(greet(\"Alice\"))  # Output: Hello, Alice!\n",
        "\n",
        "2.Explain the concept of function arguments and parameters in Python.\n",
        " =Parameters are the placeholders in the function definition.\n",
        "\n",
        "Arguments are the actual values you pass to the function when you call it.\n",
        "\n",
        "Ex:def greet(name):\n",
        "    print(f\"Hello, {name}!\")\n",
        "    greet(\"Alice\")  \n",
        "\n",
        "3.What are the different ways to define and call a function in Python?\n",
        " =in python there are 6 different ways\n",
        " 1.Standard function\n",
        " 2.Default function\n",
        " 3.Positional and keyword Argument\n",
        " 4.With argument\n",
        " 5.With keyword\n",
        " 6.Lambda\n",
        "\n",
        "4.What is the purpose of the `return` statement in a Python function?\n",
        " =The return statement is used to send a result back from a function to the caller. It ends the function and returns a value.\n",
        " Ex:def add(a, b):\n",
        "    return a + b  # returns the sum to the caller\n",
        "\n",
        "result = add(3, 5)\n",
        "print(result)  # Output: 8\n",
        "\n",
        "5. What are iterators in Python and how do they differ from iterables?\n",
        " =Iterable: An object that can be looped over (e.g., list, string, tuple). It has an __iter__() method.\n",
        "\n",
        " Iterator: An object that produces values one at a time using the __next__() method and remembers its position.\n",
        " Ex:nums = [1, 2, 3]     \n",
        "           it = iter(nums)     \n",
        "           from iterable\n",
        "\n",
        "           print(next(it))  # Output: 1\n",
        "           print(next(it))  # Output: 2\n",
        "\n",
        "6.  Explain the concept of generators in Python and how they are defined.\n",
        " =Generators are special functions that return an iterator, allowing you to generate values on the fly instead of storing them in memory all at once.\n",
        " Defined like normal functions, but use the yield keyword instead of return.\n",
        " Ex:def count_up_to(n):\n",
        "    count = 1\n",
        "    while count <= n:\n",
        "        yield count\n",
        "        count += 1\n",
        "\n",
        "7.What are the advantages of using generators over regular function.\n",
        " =Memory Efficient: Generate values one at a time without storing the entire sequence.\n",
        "\n",
        "  Lazy Evaluation: Produce items only when needed, saving computation time.\n",
        "\n",
        "  Can Handle Infinite Sequences: Unlike regular functions that return full lists.\n",
        "\n",
        "  Faster Startup: Begin yielding results immediately without waiting to create all data.\n",
        "  Ex:def gen():\n",
        "    yield 1\n",
        "    yield 2\n",
        "\n",
        "    for val in gen():\n",
        "    print(val)  \n",
        "\n",
        "          \n",
        "8.What is a lambda function in Python and when is it typically used?\n",
        " = A lambda function is a small anonymous function defined with the lambda keyword. It can take any number of arguments but has only one expression, which is returned automatically.\n",
        " Ex:lambda arguments: expression\n",
        "\n",
        "9. Explain the purpose and usage of the `map()` function in Python.\n",
        " =The map() function in Python applies a given function to each item of an iterable (like a list) and returns an iterator with the results. It’s used to transform all elements efficiently without writing explicit loops.\n",
        " Ex:numbers = [1, 2, 3]\n",
        "   squared = map(lambda x: x**2, numbers)\n",
        "   print(list(squared))  # Output: [1, 4, 9]\n",
        "\n",
        "10.What is the difference between `map()`, `reduce()`, and `filter()` functions in Python?\n",
        " =map(): Applies a function to each item in an iterable, returning all results.\n",
        "\n",
        "filter(): Selects items from an iterable where a function returns True.\n",
        "\n",
        "reduce(): Combines items in an iterable into a single value using a cumulative functi\n",
        "\n",
        "11.. Using pen & Paper write the internal mechanism for sum operation using  reduce function on this given\n",
        "list:[47,11,42,13];\n",
        " =Using reduce to sum [47, 11, 42, 13] works like this internally:\n",
        "\n",
        "Start with the first two elements: 47 + 11 = 58\n",
        "\n",
        "Then combine the result with the next element: 58 + 42 = 100\n",
        "\n",
        "Finally, add the last element: 100 + 13 = 113\n",
        "\n",
        "So, reduce applies the sum function cumulatively:\n",
        "(((47 + 11) + 42) + 13) = 113"
      ],
      "metadata": {
        "id": "2yNw-S4s_ab2"
      }
    },
    {
      "cell_type": "code",
      "source": [
        "#1. Write a Python function that takes a list of numbers as input and returns the sum of all even numbers in\n",
        "#the list.\n",
        "\n",
        "def sum_even_numbers(numbers):\n",
        "    return sum(num for num in numbers if num % 2 == 0)\n",
        "print(sum_even_numbers([1, 2, 3, 4, 5, 6]))\n",
        "\n"
      ],
      "metadata": {
        "id": "tQKtpzT_E2M0",
        "outputId": "6014c7e5-2580-4788-ef90-2666c5efe7a9",
        "colab": {
          "base_uri": "https://localhost:8080/"
        }
      },
      "execution_count": 1,
      "outputs": [
        {
          "output_type": "stream",
          "name": "stdout",
          "text": [
            "12\n"
          ]
        }
      ]
    },
    {
      "cell_type": "code",
      "source": [
        "#2. Create a Python function that accepts a string and returns the reverse of that string.\n",
        "\n",
        "def reverse_string(s):\n",
        "    return s[::-1]\n",
        "print(reverse_string(\"hello\"))  # Output: \"olleh\"\n"
      ],
      "metadata": {
        "id": "mulVQkE_Fmns",
        "outputId": "a8244d22-589c-4a15-9b9f-61506ff42e8e",
        "colab": {
          "base_uri": "https://localhost:8080/"
        }
      },
      "execution_count": 2,
      "outputs": [
        {
          "output_type": "stream",
          "name": "stdout",
          "text": [
            "olleh\n"
          ]
        }
      ]
    },
    {
      "cell_type": "code",
      "source": [
        "#3.Implement a Python function that takes a list of integers and returns a new list containing the squares of\n",
        "#each number.\n",
        "\n",
        "def square_numbers(numbers):\n",
        "    return [num ** 2 for num in numbers]\n",
        "nums = [1, 2, 3, 4, 5]\n",
        "print(square_numbers(nums))\n",
        "\n"
      ],
      "metadata": {
        "id": "op96-BPaFvC-",
        "outputId": "75c5d1c4-15dd-4b5d-b794-062df7e64b50",
        "colab": {
          "base_uri": "https://localhost:8080/"
        }
      },
      "execution_count": 8,
      "outputs": [
        {
          "output_type": "stream",
          "name": "stdout",
          "text": [
            "[1, 4, 9, 16, 25]\n"
          ]
        }
      ]
    },
    {
      "cell_type": "code",
      "source": [
        "#4. Write a Python function that checks if a given number is prime or not from 1 to 200.\n",
        "\n",
        "def is_prime(n):\n",
        "    if n < 2 or n > 200:\n",
        "        return False\n",
        "    for i in range(2, int(n ** 0.5) + 1):\n",
        "        if n % i == 0:\n",
        "            return False\n",
        "    return True\n",
        "print(is_prime(17))\n",
        "print(is_prime(200))\n",
        "print(is_prime(1))\n",
        "\n"
      ],
      "metadata": {
        "id": "mSLpmEl4Gw04",
        "outputId": "293d00a1-aed6-4618-f249-2b015a2cc111",
        "colab": {
          "base_uri": "https://localhost:8080/"
        }
      },
      "execution_count": 9,
      "outputs": [
        {
          "output_type": "stream",
          "name": "stdout",
          "text": [
            "True\n",
            "False\n",
            "False\n"
          ]
        }
      ]
    },
    {
      "cell_type": "code",
      "source": [
        "#5.Create an iterator class in Python that generates the Fibonacci sequence up to a specified number items\n",
        "\n",
        "class Fibonacci:\n",
        "    def __init__(self, n):\n",
        "        self.n, self.count, self.a, self.b = n, 0, 0, 1\n",
        "    def __iter__(self):\n",
        "        return self\n",
        "    def __next__(self):\n",
        "        if self.count >= self.n:\n",
        "            raise StopIteration\n",
        "        self.count += 1\n",
        "        if self.count == 1:\n",
        "            return 0\n",
        "        elif self.count == 2:\n",
        "            return 1\n",
        "        self.a, self.b = self.b, self.a + self.b\n",
        "        return self.a\n",
        "\n"
      ],
      "metadata": {
        "id": "vePqHo1RGOZw"
      },
      "execution_count": 11,
      "outputs": []
    },
    {
      "cell_type": "code",
      "source": [
        "#6.Write a generator function in Python that yields the powers of 2 up to a given exponent.\n",
        "\n",
        "def powers_of_two(n):\n",
        "    for i in range(n + 1):\n",
        "        yield 2 ** i\n",
        "for power in powers_of_two(5):\n",
        "    print(power)\n",
        "\n"
      ],
      "metadata": {
        "id": "0Xz6HmiAHxMR",
        "outputId": "d1dd20a8-6eb2-4503-ba43-c12cd74f607d",
        "colab": {
          "base_uri": "https://localhost:8080/"
        }
      },
      "execution_count": 12,
      "outputs": [
        {
          "output_type": "stream",
          "name": "stdout",
          "text": [
            "1\n",
            "2\n",
            "4\n",
            "8\n",
            "16\n",
            "32\n"
          ]
        }
      ]
    },
    {
      "cell_type": "code",
      "source": [
        "#7.Implement a generator function that reads a file line by line and yields each line as a string.\n",
        "\n",
        "def read_lines(filename):\n",
        "    with open(filename, 'r') as file:\n",
        "        for line in file:\n",
        "            yield line\n",
        "for line in read_lines('myfile.txt'):\n",
        "    print(line, end='')  # prints each line as is\n",
        "\n"
      ],
      "metadata": {
        "id": "P0TNBnwUIHJi"
      },
      "execution_count": 19,
      "outputs": []
    },
    {
      "cell_type": "code",
      "source": [
        "#8.Use a lambda function in Python to sort a list of tuples based on the second element of each tuple.\n",
        "\n",
        "tuples = [(3, 2), (1, 5), (4, 1)]\n",
        "sorted_tuples = sorted(tuples, key=lambda x: x[1])\n",
        "print(sorted_tuples)  # Output: [(4, 1), (3, 2), (1, 5)]\n",
        "\n"
      ],
      "metadata": {
        "id": "SSl-S-PMJQm4",
        "outputId": "16a9bd28-9e3f-4914-d124-8c0e663fdd08",
        "colab": {
          "base_uri": "https://localhost:8080/"
        }
      },
      "execution_count": 20,
      "outputs": [
        {
          "output_type": "stream",
          "name": "stdout",
          "text": [
            "[(4, 1), (3, 2), (1, 5)]\n"
          ]
        }
      ]
    },
    {
      "cell_type": "code",
      "source": [
        "#9.Write a Python program that uses `map()` to convert a list of temperatures from Celsius to Fahrenheit.\n",
        "\n",
        "def c_to_f(c):\n",
        "    return (c * 9/5) + 32\n",
        "\n",
        "celsius = [0, 20, 37, 100]\n",
        "fahrenheit = list(map(c_to_f, celsius))\n",
        "\n",
        "print(fahrenheit)\n"
      ],
      "metadata": {
        "id": "0-24TnA_JZwk",
        "outputId": "54d1802b-bd93-4c91-a952-b807aec51fca",
        "colab": {
          "base_uri": "https://localhost:8080/"
        }
      },
      "execution_count": 21,
      "outputs": [
        {
          "output_type": "stream",
          "name": "stdout",
          "text": [
            "[32.0, 68.0, 98.6, 212.0]\n"
          ]
        }
      ]
    },
    {
      "cell_type": "code",
      "source": [
        "#10.Create a Python program that uses `filter()` to remove all the vowels from a given string.\n",
        "\n",
        "def remove_vowels(s):\n",
        "    vowels = \"aeiouAEIOU\"\n",
        "    return ''.join(filter(lambda ch: ch not in vowels, s))\n",
        "\n",
        "text = \"Hello, World!\"\n",
        "result = remove_vowels(text)\n",
        "print(result)  # Output: Hll, Wrld!\n"
      ],
      "metadata": {
        "id": "nkAWzxQ2JlyQ",
        "outputId": "89e938f6-6273-4706-ae65-c22e853d8270",
        "colab": {
          "base_uri": "https://localhost:8080/"
        }
      },
      "execution_count": 22,
      "outputs": [
        {
          "output_type": "stream",
          "name": "stdout",
          "text": [
            "Hll, Wrld!\n"
          ]
        }
      ]
    },
    {
      "cell_type": "markdown",
      "source": [],
      "metadata": {
        "id": "QIo3gViXCOVi"
      }
    },
    {
      "cell_type": "code",
      "source": [],
      "metadata": {
        "id": "IimiDWiXFlaW"
      },
      "execution_count": null,
      "outputs": []
    },
    {
      "cell_type": "markdown",
      "source": [],
      "metadata": {
        "id": "z8kHwQmFAXqw"
      }
    },
    {
      "cell_type": "markdown",
      "source": [],
      "metadata": {
        "id": "5_p6bwG9_HZ6"
      }
    }
  ]
}